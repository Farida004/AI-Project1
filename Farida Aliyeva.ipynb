{
  "nbformat": 4,
  "nbformat_minor": 0,
  "metadata": {
    "colab": {
      "name": "Untitled21.ipynb",
      "provenance": [],
      "collapsed_sections": []
    },
    "kernelspec": {
      "name": "python3",
      "display_name": "Python 3"
    }
  },
  "cells": [
    {
      "cell_type": "code",
      "metadata": {
        "id": "lrQvfEygusq-"
      },
      "source": [
        "import numpy as np\r\n",
        "import pandas as pd\r\n",
        "import heapq\r\n",
        "import math\r\n",
        "import time\r\n",
        "import argparse \r\n",
        "\r\n",
        "# Function to read the source and destination Files. Then Strings are split and numbers retrieved\r\n",
        "def readSD(filename):\r\n",
        "  with open(filename,'r') as sd:\r\n",
        "    for line in sd.readlines():\r\n",
        "      if line.startswith(\"S\"):\r\n",
        "        Source = int(line.split(',')[1]) \r\n",
        "      elif line.startswith(\"D\"):\r\n",
        "        Destination = int(line.split(',')[1]) \r\n",
        "  return Source,Destination\r\n",
        "\r\n",
        "# Function to read the vertices File. Appending the normalizaed valued of square ids from file to grid data structure\r\n",
        "def readVertices(n,filename):\r\n",
        "  grid = []\r\n",
        "  for i in range(n):\r\n",
        "    grid.append(0)\r\n",
        "  with open(filename,'r') as vertices:\r\n",
        "    for line in vertices.readlines():\r\n",
        "      if not line.startswith(\"#\"):\r\n",
        "        vertex,squareId = line.split(\",\")\r\n",
        "        vertex,squareId = int(vertex),int(squareId)\r\n",
        "        grid[vertex] = [squareId/10,squareId%10]\r\n",
        "    return grid\r\n",
        "\r\n",
        "# Function to calculate Euclidian distance used primarily for uninformed search in our case A*. Adds all the distances to the data structure.\r\n",
        "def Euclidian(Dest,n,vertices):\r\n",
        "  distances=[]\r\n",
        "  for i in range(n):\r\n",
        "    x = (abs(vertices[i][0] - vertices[Dest][0]))\r\n",
        "    y = (abs(vertices[i][1] - vertices[Dest][1]))\r\n",
        " \r\n",
        "    distance = math.sqrt(math.pow(x,2) +math.pow(y,2))*100\r\n",
        "    distances.append(distance)\r\n",
        "  return distances\r\n",
        "#Function to read the Edge values from the file. The same way as vertices were extracted. Storing the values at edgesValues data structure.\r\n",
        "def readEdges(filename):\r\n",
        "  edgesValues=[]\r\n",
        "  with open(filename,'r') as edges:\r\n",
        "    for line in edges.readlines():\r\n",
        "      if not line.startswith(\"#\"):\r\n",
        "        edgesValues.append(line.split(','))\r\n",
        "  return edgesValues\r\n",
        "\r\n",
        "# This function created a grid from the input data (edges) to build a graph for our data. Which in turn stores the nodes and values of heuristics.\r\n",
        "def create_grid(edg,heuristic):  \r\n",
        "  edge_grid=[]\r\n",
        "  for i in range(100):\r\n",
        "    edge_grid.append([])\r\n",
        "  for line in edg:\r\n",
        "    vert_from,vert_to,d = int(line[0]),int(line[1]),int(line[2])\r\n",
        "    edge_grid[vert_from].append([d+heuristic[vert_to],vert_to,d])\r\n",
        "    edge_grid[vert_to].append([d+heuristic[vert_from],vert_from,d])\r\n",
        "  return edge_grid\r\n",
        "\r\n",
        "#Function used by Astar function to print out the resulting path\r\n",
        "def print_path_Astar(path,parent,D,S):\r\n",
        "  path.append(parent[D])\r\n",
        "  if parent[D] != 0:\r\n",
        "    print_path_Astar(path,parent,parent[S],0)\r\n",
        "    #descending for loop.\r\n",
        "  for i in range(len(path) -1, -1,-1):\r\n",
        "    print(path[i],end=\" \")\r\n",
        "#AStar Algorithm path search algorithm searches for the shortest path between Starting and Final states\r\n",
        "#Traversing the nodes we add the very first one to the status data structures comparing the costs  which are calculated by (g(n)+ h(n)).\r\n",
        "#Once done the node is moved to visited list. Storing the parent nodes we later on print out the Path itself for the Algorithm.\r\n",
        "#Reaching Destination node we end the search and come up with the shortest path for the algorithm. In case if the Destination node can not\r\n",
        "#be found the Path from Source to Destination can not be estimated then. Throughout the searching process the live score of the process is calculated.\r\n",
        "# HeapQ is known as priority queue in python data structures.\r\n",
        "def Astar(n,Source,Destination, grid_edges_h):\r\n",
        "  start = time.time()\r\n",
        "  cost = Source\r\n",
        "  parent = []\r\n",
        "  status = []\r\n",
        "  visited = []\r\n",
        "  path = [Destination]\r\n",
        "  for i in range(n):\r\n",
        "    visited.append(0)\r\n",
        "    parent.append(0)\r\n",
        "  heapq.heappush(status, (cost, [Source,cost,Source]))\r\n",
        "  while len(status) != 0:\r\n",
        "    live_score,[live_node,live_cost,p] = heapq.heappop(status)\r\n",
        "    if visited[live_node] == 0:\r\n",
        "      visited[live_node] = 1\r\n",
        "      parent[p] = p\r\n",
        "      if live_node == Destination:\r\n",
        "        finish = time.time()\r\n",
        "        print(f\"Cost of Shortest Path = {int(live_score)}\")    \r\n",
        "        print(f\"\\nTime: {finish - start} seconds\")       \r\n",
        "        print('\\n Path:' )\r\n",
        "        print_path_Astar(path,parent,Destination,Source)\r\n",
        "      else:\r\n",
        "        for x in grid_edges_h[live_node]:\r\n",
        "          heapq.heappush(status, (x[0] + live_cost, [x[1],x[2]+live_cost,live_node]))\r\n",
        "#Dikstra algorithm another way to find the shortest path bu comparing to A star it \r\n",
        "#does not thrive to find a better path using the heuristic funciton. The main objective of Dijkstra is just to \r\n",
        "#explore all the possible paths. the main objective is to provide a function with the infinite value and a min value\r\n",
        "# and use them to compare and find the minimum which is in fact a shortest path. \r\n",
        "def Dijkstra(n,edg,Source,Destination):\r\n",
        "    def printPath(num):\r\n",
        "      if (num == -1):\r\n",
        "          return\r\n",
        "      printPath(parent[num])\r\n",
        "      print(num, end=\" \")\r\n",
        "# a way to find a short path \r\n",
        "    def stop(a, b):\r\n",
        "        if (dist[a] + h[a][b] < dist[b]):\r\n",
        "            dist[b] = dist[a]+h[a][b]\r\n",
        "            parent[b] = a\r\n",
        "    infinite = 1000000000\r\n",
        "    visited = np.zeros(n)\r\n",
        "    h = np.full((n,n), infinite)\r\n",
        "    start = time.time()\r\n",
        "    for line in edg:\r\n",
        "        v_from,v_to,len = int(line[0]), int(line[1]),int(line[2])\r\n",
        "        h[v_from][v_to] = h[v_to][v_from] = len\r\n",
        "\r\n",
        "    dist = np.full(n, infinite)\r\n",
        "    dist[Source]=0\r\n",
        "    parent = np.full(n, -1)\r\n",
        "\r\n",
        "    for i in range(0, n-1):\r\n",
        "        min = infinite\r\n",
        "        v = -1\r\n",
        "        for j in range (0, n):\r\n",
        "            if (visited[j]==0 and dist[j] <min):\r\n",
        "                min = dist[j]\r\n",
        "                v = j\r\n",
        "                if (v==-1):\r\n",
        "                    break\r\n",
        "                for j in range(0, n):\r\n",
        "                    if (visited[j]==0 and h[v][j]!=infinite):\r\n",
        "                        stop(v, j)\r\n",
        "                        visited[v]=1\r\n",
        "\r\n",
        "    if (dist[Destination]==infinite):\r\n",
        "        print(\"-1\")\r\n",
        "    else:\r\n",
        "        print(f\"Cost of Shortest Path = {dist[Destination]}\")   \r\n",
        "        finish = time.time()\r\n",
        "        print(f\"\\nTime: {finish - start} seconds\" )          \r\n",
        "        print('\\n Path:' )\r\n",
        "        printPath(Destination)\r\n",
        "#Run program method which takes number of edges, the algorithm type and file names from the user\r\n",
        "def run_program(num_of_edges,algorithm,vertexfile, edgefile, sdfile):\r\n",
        "   Source,Destination = readSD(sdfile)\r\n",
        "   vertices = readVertices(num_of_edges,vertexfile)\r\n",
        "   edg = readEdges(edgefile)\r\n",
        "   heuristic = Euclidian(Destination, num_of_edges,vertices)\r\n",
        "   grid_edges_h = create_grid(edg,heuristic)\r\n",
        "   if(algorithm == 'Astar'):\r\n",
        "     Astar(num_of_edges,Source,Destination,grid_edges_h)\r\n",
        "   elif(algorithm=='Dijkstra'):\r\n",
        "      Dijkstra(num_of_edges,edg, Source, Destination)\r\n"
      ],
      "execution_count": 16,
      "outputs": []
    },
    {
      "cell_type": "code",
      "metadata": {
        "colab": {
          "base_uri": "https://localhost:8080/",
          "height": 178
        },
        "id": "f0yEHbhmjDaY",
        "outputId": "e3922a93-c878-48a4-e87b-f84812f90b1d"
      },
      "source": [
        "if __name__ == '__main__':\r\n",
        "    \r\n",
        "    parser = argparse.ArgumentParser()\r\n",
        "    parser.add_argument('nodes',type =int)\r\n",
        "    parser.add_argument('algorithm',type=str)\r\n",
        "    parser.add_argument('vertexfile',type=str)\r\n",
        "    parser.add_argument('edgefile',type =str)\r\n",
        "    parser.add_argument('sdfile',type=str)\r\n",
        "    args = parser.parse_args()\r\n",
        "\r\n",
        "    nodes = args.nodes\r\n",
        "    algorithm = args.algorithm\r\n",
        "    vertexfile= args.vertexfile\r\n",
        "    edgefile= args.edgefile\r\n",
        "    sdfile= args.sdfile\r\n",
        "\r\n",
        "    run_program(nodes,algorithm,vertexfile,edgefile,sdfile)\r\n"
      ],
      "execution_count": 19,
      "outputs": [
        {
          "output_type": "stream",
          "text": [
            "usage: ipykernel_launcher.py [-h] nodes algorithm vertexfile edgefile sdfile\n",
            "ipykernel_launcher.py: error: argument nodes: invalid int value: '/root/.local/share/jupyter/runtime/kernel-cbeac82e-7d06-4bf9-9d12-bd00ce4129ec.json'\n"
          ],
          "name": "stderr"
        },
        {
          "output_type": "error",
          "ename": "SystemExit",
          "evalue": "ignored",
          "traceback": [
            "An exception has occurred, use %tb to see the full traceback.\n",
            "\u001b[0;31mSystemExit\u001b[0m\u001b[0;31m:\u001b[0m 2\n"
          ]
        },
        {
          "output_type": "stream",
          "text": [
            "/usr/local/lib/python3.6/dist-packages/IPython/core/interactiveshell.py:2890: UserWarning: To exit: use 'exit', 'quit', or Ctrl-D.\n",
            "  warn(\"To exit: use 'exit', 'quit', or Ctrl-D.\", stacklevel=1)\n"
          ],
          "name": "stderr"
        }
      ]
    },
    {
      "cell_type": "code",
      "metadata": {
        "colab": {
          "base_uri": "https://localhost:8080/"
        },
        "id": "rKh9WOdXjVsJ",
        "outputId": "01441b4b-a243-488c-e0c1-31083232e3f3"
      },
      "source": [
        "#uncomment this part to see the results in google colab or jupyter notebook\r\n",
        "#run_program(100,'Astar','Vertices.txt','edges.txt','source and destination.txt')"
      ],
      "execution_count": 21,
      "outputs": [
        {
          "output_type": "stream",
          "text": [
            "Cost of Shortest Path = 6157\n",
            "\n",
            "Time: 0.0007963180541992188 seconds\n",
            "\n",
            " Path:\n",
            "0 99 "
          ],
          "name": "stdout"
        }
      ]
    },
    {
      "cell_type": "code",
      "metadata": {
        "colab": {
          "base_uri": "https://localhost:8080/"
        },
        "id": "UMEuI1QVjWLW",
        "outputId": "cc201a1c-6e20-4b32-adb8-24436db87319"
      },
      "source": [
        "\r\n",
        "#uncomment this part to see the results in google colab or jupyter notebook\r\n",
        "#run_program(100,'Dijkstra','Vertices.txt','edges.txt','source and destination.txt')"
      ],
      "execution_count": 22,
      "outputs": [
        {
          "output_type": "stream",
          "text": [
            "Cost of Shortest Path = 6157\n",
            "\n",
            "Time: 0.0330507755279541 seconds\n",
            "\n",
            " Path:\n",
            "0 99 "
          ],
          "name": "stdout"
        }
      ]
    },
    {
      "cell_type": "code",
      "metadata": {
        "id": "bu-TSPr-jY9t"
      },
      "source": [
        ""
      ],
      "execution_count": null,
      "outputs": []
    }
  ]
}